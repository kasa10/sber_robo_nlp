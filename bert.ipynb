{
 "cells": [
  {
   "cell_type": "code",
   "execution_count": 1,
   "outputs": [],
   "source": [
    "import pandas as pd"
   ],
   "metadata": {
    "collapsed": false,
    "ExecuteTime": {
     "start_time": "2024-04-04T12:19:49.388678Z",
     "end_time": "2024-04-04T12:19:49.772268Z"
    }
   }
  },
  {
   "cell_type": "code",
   "execution_count": 3,
   "outputs": [],
   "source": [
    "file_path ='itmo_sber.csv'\n",
    "data = pd.read_csv('itmo_sber.csv')"
   ],
   "metadata": {
    "collapsed": false,
    "ExecuteTime": {
     "start_time": "2024-04-04T12:19:52.176526Z",
     "end_time": "2024-04-04T12:19:52.319730Z"
    }
   }
  },
  {
   "cell_type": "code",
   "execution_count": 4,
   "outputs": [
    {
     "name": "stdout",
     "output_type": "stream",
     "text": [
      "Unnamed: 0                    0\n",
      "Задача                        0\n",
      "Обстановка                    0\n",
      "Оптимальный план              0\n",
      "Задача en                     0\n",
      "Обстановка en                 0\n",
      "Оптимальный план en           0\n",
      "Предсказанный план            0\n",
      "Успех предсказанного плана    0\n",
      "dtype: int64\n"
     ]
    }
   ],
   "source": [
    "print(data.isnull().sum())"
   ],
   "metadata": {
    "collapsed": false,
    "ExecuteTime": {
     "start_time": "2024-04-04T12:19:52.976670Z",
     "end_time": "2024-04-04T12:19:52.993339Z"
    }
   }
  },
  {
   "cell_type": "code",
   "execution_count": 5,
   "outputs": [
    {
     "name": "stdout",
     "output_type": "stream",
     "text": [
      "   Unnamed: 0                          Задача  \\\n",
      "0           0   Приготовить горячий шоколад.    \n",
      "1           1     Заказать доставку еды домой   \n",
      "2           2  Реставрация старого комода\\r\\n   \n",
      "3           3            Приготовить сырники.   \n",
      "4           4               Нарезать колбасу.   \n",
      "\n",
      "                                          Обстановка  \\\n",
      "0  кухня, молоко, какао, сахар, кастрюля, ложка, ...   \n",
      "1  мобильный телефон, ресторанное меню, интернет,...   \n",
      "2  Старый комод, повреждения, шпатель, шкурка, ма...   \n",
      "3  Кухня, столешница, творог, мука, яйцо, сахар, ...   \n",
      "4  Кухня, колбаса, нож, доска для резки, холодиль...   \n",
      "\n",
      "                                    Оптимальный план  \\\n",
      "0  Откройте дверь. Зайдите на кухню. Закрйоте две...   \n",
      "1  Найдите стол. Подойдите к столу. Найдите мобил...   \n",
      "2  Подойдите к комоду.Найдите шкурку.Возьмите шку...   \n",
      "3  Подойти к столешнице. Найти творог. Взять твор...   \n",
      "4  Подойти к холодильнику. Открыть холодильник. Н...   \n",
      "\n",
      "                                Задача en  \\\n",
      "0                  Prepare hot chocolate.   \n",
      "1        Order food delivery to your home   \n",
      "2  Restoration of an old chest of drawers   \n",
      "3                    Prepare cheesecakes.   \n",
      "4                        Cut the sausage.   \n",
      "\n",
      "                                       Обстановка en  \\\n",
      "0  kitchen, milk, cocoa, sugar, pan, spoon, cabin...   \n",
      "1  mobile phone, restaurant menu, internet, money...   \n",
      "2  Old chest of drawers, damage, spatula, sandpap...   \n",
      "3  Kitchen, countertop, cottage cheese, flour, eg...   \n",
      "4  Kitchen, sausage, knife, cutting board, refrig...   \n",
      "\n",
      "                                 Оптимальный план en  \\\n",
      "0  Open the door. Walk to the kitchen. Close the ...   \n",
      "1  Find a table. Come to the table. Find a mobile...   \n",
      "2  Walk to the chest of drawers. Find the sandpap...   \n",
      "3  Walk to the tabletop. Find cottage cheese. Gra...   \n",
      "4  Walk to the refrigerator. Open the refrigerato...   \n",
      "\n",
      "                                  Предсказанный план  \\\n",
      "0    Walk to the closet. Open the closet. Find a ...   \n",
      "1    Come to the table. Find your phone. Grab the...   \n",
      "2    Find the chest of drawers. Walk to the chest...   \n",
      "3    Walk to the tabletop. Find a bowl. Grab a bo...   \n",
      "4    Walk to the refrigerator. Open the refrigera...   \n",
      "\n",
      "   Успех предсказанного плана  \n",
      "0                           0  \n",
      "1                           1  \n",
      "2                           0  \n",
      "3                           0  \n",
      "4                           1  \n"
     ]
    }
   ],
   "source": [
    "print(data.head())"
   ],
   "metadata": {
    "collapsed": false,
    "ExecuteTime": {
     "start_time": "2024-04-04T12:19:53.259137Z",
     "end_time": "2024-04-04T12:19:53.290400Z"
    }
   }
  },
  {
   "cell_type": "code",
   "execution_count": 6,
   "outputs": [
    {
     "name": "stdout",
     "output_type": "stream",
     "text": [
      "Успех предсказанного плана\n",
      "1    3234\n",
      "0    1600\n",
      "Name: count, dtype: int64\n"
     ]
    }
   ],
   "source": [
    "print(data['Успех предсказанного плана'].value_counts())"
   ],
   "metadata": {
    "collapsed": false,
    "ExecuteTime": {
     "start_time": "2024-04-04T12:19:53.694505Z",
     "end_time": "2024-04-04T12:19:53.725196Z"
    }
   }
  },
  {
   "cell_type": "code",
   "execution_count": 7,
   "outputs": [
    {
     "name": "stdout",
     "output_type": "stream",
     "text": [
      "        Unnamed: 0  Успех предсказанного плана\n",
      "count  4834.000000                 4834.000000\n",
      "mean   2416.500000                    0.669011\n",
      "std    1395.599931                    0.470618\n",
      "min       0.000000                    0.000000\n",
      "25%    1208.250000                    0.000000\n",
      "50%    2416.500000                    1.000000\n",
      "75%    3624.750000                    1.000000\n",
      "max    4833.000000                    1.000000\n"
     ]
    }
   ],
   "source": [
    "print(data.describe())"
   ],
   "metadata": {
    "collapsed": false,
    "ExecuteTime": {
     "start_time": "2024-04-04T12:19:54.108343Z",
     "end_time": "2024-04-04T12:19:54.124005Z"
    }
   }
  },
  {
   "cell_type": "code",
   "execution_count": 8,
   "outputs": [],
   "source": [
    "from sklearn.feature_extraction.text import CountVectorizer"
   ],
   "metadata": {
    "collapsed": false,
    "ExecuteTime": {
     "start_time": "2024-04-04T12:19:54.476531Z",
     "end_time": "2024-04-04T12:19:54.818614Z"
    }
   }
  },
  {
   "cell_type": "code",
   "execution_count": 9,
   "outputs": [],
   "source": [
    "vectorizer = CountVectorizer()\n",
    "X = vectorizer.fit_transform(data['Задача'])"
   ],
   "metadata": {
    "collapsed": false,
    "ExecuteTime": {
     "start_time": "2024-04-04T12:19:54.912800Z",
     "end_time": "2024-04-04T12:19:54.928447Z"
    }
   }
  },
  {
   "cell_type": "code",
   "execution_count": 10,
   "outputs": [
    {
     "name": "stdout",
     "output_type": "stream",
     "text": [
      "(4834, 5402)\n"
     ]
    }
   ],
   "source": [
    "print(X.shape)"
   ],
   "metadata": {
    "collapsed": false,
    "ExecuteTime": {
     "start_time": "2024-04-04T12:19:55.246781Z",
     "end_time": "2024-04-04T12:19:55.263260Z"
    }
   }
  },
  {
   "cell_type": "code",
   "execution_count": 11,
   "outputs": [
    {
     "name": "stderr",
     "output_type": "stream",
     "text": [
      "[nltk_data] Downloading package stopwords to\n",
      "[nltk_data]     C:\\Users\\kiril\\AppData\\Roaming\\nltk_data...\n",
      "[nltk_data]   Package stopwords is already up-to-date!\n",
      "[nltk_data] Downloading package wordnet to\n",
      "[nltk_data]     C:\\Users\\kiril\\AppData\\Roaming\\nltk_data...\n",
      "[nltk_data]   Package wordnet is already up-to-date!\n",
      "[nltk_data] Downloading package omw-1.4 to\n",
      "[nltk_data]     C:\\Users\\kiril\\AppData\\Roaming\\nltk_data...\n",
      "[nltk_data]   Package omw-1.4 is already up-to-date!\n",
      "[nltk_data] Downloading package punkt to\n",
      "[nltk_data]     C:\\Users\\kiril\\AppData\\Roaming\\nltk_data...\n",
      "[nltk_data]   Package punkt is already up-to-date!\n"
     ]
    }
   ],
   "source": [
    "import nltk\n",
    "from nltk.corpus import stopwords\n",
    "from nltk.stem import WordNetLemmatizer\n",
    "from sklearn.model_selection import train_test_split\n",
    "from sklearn.feature_extraction.text import TfidfVectorizer\n",
    "\n",
    "nltk.download('stopwords')\n",
    "nltk.download('wordnet')\n",
    "nltk.download('omw-1.4')\n",
    "nltk.download('punkt')\n",
    "\n",
    "lemmatizer = WordNetLemmatizer()\n",
    "stop_words = set(stopwords.words('russian'))\n",
    "\n",
    "def preprocess_text(text):\n",
    "    words = nltk.word_tokenize(text)\n",
    "    words = [lemmatizer.lemmatize(word.lower()) for word in words if word.lower() not in stop_words and word.isalpha()]\n",
    "    return ' '.join(words)\n",
    "\n",
    "data['Задача'] = data['Задача'].apply(preprocess_text)\n",
    "data['Обстановка'] = data['Обстановка'].apply(preprocess_text)"
   ],
   "metadata": {
    "collapsed": false,
    "ExecuteTime": {
     "start_time": "2024-04-04T12:19:55.579965Z",
     "end_time": "2024-04-04T12:19:58.308121Z"
    }
   }
  },
  {
   "cell_type": "code",
   "execution_count": 12,
   "outputs": [],
   "source": [
    "# Инициализация векторизатора\n",
    "tfidf_vectorizer = TfidfVectorizer(max_features=5000)\n",
    "\n",
    "# Объединяем текстовые данные для векторизации\n",
    "combined_text = data['Задача'] + \" \" + data['Обстановка']\n",
    "X = tfidf_vectorizer.fit_transform(combined_text)\n",
    "\n",
    "# Целевая переменная\n",
    "y = data['Успех предсказанного плана']"
   ],
   "metadata": {
    "collapsed": false,
    "ExecuteTime": {
     "start_time": "2024-04-04T12:19:58.355124Z",
     "end_time": "2024-04-04T12:19:58.386295Z"
    }
   }
  },
  {
   "cell_type": "code",
   "execution_count": 13,
   "outputs": [
    {
     "data": {
      "text/plain": "((3867, 1000), (967, 1000))"
     },
     "execution_count": 13,
     "metadata": {},
     "output_type": "execute_result"
    }
   ],
   "source": [
    "from sklearn.model_selection import train_test_split\n",
    "from sklearn.feature_extraction.text import TfidfVectorizer\n",
    "import re\n",
    "\n",
    "# Объединение текстовых полей\n",
    "data['combined_text'] = data['Задача en'] + ' ' + data['Обстановка en'] + ' ' + data['Предсказанный план']\n",
    "\n",
    "# Функция для очистки и нормализации текста\n",
    "def clean_text(text):\n",
    "    text = text.lower()  # Приведение к нижнему регистру\n",
    "    text = re.sub(r'\\s+', ' ', text)  # Удаление лишних пробелов\n",
    "    text = re.sub(r'[^\\w\\s]', '', text)  # Удаление специальных символов\n",
    "    return text\n",
    "\n",
    "# Применение функции очистки к каждой строке объединенного текстового поля\n",
    "data['cleaned_text'] = data['combined_text'].apply(clean_text)\n",
    "\n",
    "# Подготовка данных и целевой переменной\n",
    "X = data['cleaned_text']\n",
    "y = data['Успех предсказанного плана']\n",
    "\n",
    "# Разделение данных на обучающую и тестовую выборки\n",
    "X_train, X_test, y_train, y_test = train_test_split(X, y, test_size=0.2, random_state=42)\n",
    "\n",
    "# Векторизация текста с использованием TF-IDF\n",
    "tfidf_vectorizer = TfidfVectorizer(max_features=1000)  # Ограничение на количество признаков для упрощения модели\n",
    "X_train_tfidf = tfidf_vectorizer.fit_transform(X_train)\n",
    "X_test_tfidf = tfidf_vectorizer.transform(X_test)\n",
    "\n",
    "X_train_tfidf.shape, X_test_tfidf.shape\n"
   ],
   "metadata": {
    "collapsed": false,
    "ExecuteTime": {
     "start_time": "2024-04-04T12:19:58.512799Z",
     "end_time": "2024-04-04T12:19:58.705196Z"
    }
   }
  },
  {
   "cell_type": "code",
   "execution_count": 14,
   "outputs": [
    {
     "name": "stderr",
     "output_type": "stream",
     "text": [
      "C:\\Users\\kiril\\AppData\\Local\\Programs\\Python\\Python310\\lib\\site-packages\\transformers\\utils\\generic.py:311: UserWarning: torch.utils._pytree._register_pytree_node is deprecated. Please use torch.utils._pytree.register_pytree_node instead.\n",
      "  torch.utils._pytree._register_pytree_node(\n"
     ]
    },
    {
     "data": {
      "text/plain": "Downloading model.safetensors:   0%|          | 0.00/714M [00:00<?, ?B/s]",
      "application/vnd.jupyter.widget-view+json": {
       "version_major": 2,
       "version_minor": 0,
       "model_id": "24ebc08bc8e14aaf84920b73d1400670"
      }
     },
     "metadata": {},
     "output_type": "display_data"
    },
    {
     "name": "stderr",
     "output_type": "stream",
     "text": [
      "C:\\Users\\kiril\\AppData\\Local\\Programs\\Python\\Python310\\lib\\site-packages\\huggingface_hub\\file_download.py:137: UserWarning: `huggingface_hub` cache-system uses symlinks by default to efficiently store duplicated files but your machine does not support them in C:\\Users\\kiril\\.cache\\huggingface\\hub. Caching files will still work but in a degraded version that might require more space on your disk. This warning can be disabled by setting the `HF_HUB_DISABLE_SYMLINKS_WARNING` environment variable. For more details, see https://huggingface.co/docs/huggingface_hub/how-to-cache#limitations.\n",
      "To support symlinks on Windows, you either need to activate Developer Mode or to run Python as an administrator. In order to see activate developer mode, see this article: https://docs.microsoft.com/en-us/windows/apps/get-started/enable-your-device-for-development\n",
      "  warnings.warn(message)\n"
     ]
    },
    {
     "name": "stdout",
     "output_type": "stream",
     "text": [
      "Accuracy of the model: 0.6608066184074457\n"
     ]
    }
   ],
   "source": [
    "from transformers import BertTokenizer, BertModel\n",
    "import torch\n",
    "from sklearn.model_selection import train_test_split\n",
    "from sklearn.linear_model import LogisticRegression\n",
    "from sklearn.metrics import accuracy_score\n",
    "import numpy as np\n",
    "\n",
    "# Загрузка предобученной модели BERT и токенизатора\n",
    "tokenizer = BertTokenizer.from_pretrained('bert-base-multilingual-cased')\n",
    "model = BertModel.from_pretrained('bert-base-multilingual-cased')\n",
    "\n",
    "# Предварительная обработка текста\n",
    "def preprocess_text(text):\n",
    "    text = text.lower()\n",
    "    text = text.strip()\n",
    "    return text\n",
    "\n",
    "data['Предсказанный план'] = data['Предсказанный план'].apply(preprocess_text)\n",
    "data['Оптимальный план'] = data['Оптимальный план'].apply(preprocess_text)\n",
    "\n",
    "# Функция для получения эмбеддингов текста с помощью BERT\n",
    "def get_bert_embeddings(text):\n",
    "    inputs = tokenizer(text, return_tensors=\"pt\", padding=True, truncation=True)\n",
    "    outputs = model(**inputs)\n",
    "    embeddings = outputs.last_hidden_state.mean(dim=1).squeeze().detach().numpy()\n",
    "    return embeddings\n",
    "\n",
    "# Получение эмбеддингов для \"Предсказанного плана\" и \"Оптимального плана\"\n",
    "predicted_plan_embeddings = np.array([get_bert_embeddings(text) for text in data['Предсказанный план']])\n",
    "optimal_plan_embeddings = np.array([get_bert_embeddings(text) for text in data['Оптимальный план']])\n",
    "\n",
    "# Вычисление сходства текстов с помощью косинусного сходства\n",
    "cosine_similarities = [np.dot(pred, opt.T) / (np.linalg.norm(pred) * np.linalg.norm(opt)) for pred, opt in zip(predicted_plan_embeddings, optimal_plan_embeddings)]\n",
    "\n",
    "# Подготовка данных и целевой переменной для классификации\n",
    "X = np.array(cosine_similarities).reshape(-1, 1)\n",
    "y = data['Успех предсказанного плана']\n",
    "\n",
    "# Разделение на обучающую и тестовую выборки\n",
    "X_train, X_test, y_train, y_test = train_test_split(X, y, test_size=0.2, random_state=42)\n"
   ],
   "metadata": {
    "collapsed": false,
    "ExecuteTime": {
     "start_time": "2024-04-04T12:20:00.521762Z",
     "end_time": "2024-04-04T12:41:24.766145Z"
    }
   }
  },
  {
   "cell_type": "code",
   "execution_count": 15,
   "outputs": [
    {
     "name": "stdout",
     "output_type": "stream",
     "text": [
      "Accuracy of the model: 0.6608066184074457\n"
     ]
    }
   ],
   "source": [
    "# Обучение классификатора\n",
    "model = LogisticRegression()\n",
    "model.fit(X_train, y_train)\n",
    "\n",
    "# Предсказание на тестовой выборке\n",
    "y_pred = model.predict(X_test)\n",
    "\n",
    "# Оценка точности модели\n",
    "accuracy = accuracy_score(y_test, y_pred)\n",
    "print(f'Accuracy of the model: {accuracy}')"
   ],
   "metadata": {
    "collapsed": false,
    "ExecuteTime": {
     "start_time": "2024-04-04T13:23:21.558221Z",
     "end_time": "2024-04-04T13:23:21.573882Z"
    }
   }
  },
  {
   "cell_type": "code",
   "execution_count": null,
   "outputs": [],
   "source": [],
   "metadata": {
    "collapsed": false
   }
  },
  {
   "cell_type": "markdown",
   "source": [],
   "metadata": {
    "collapsed": false
   }
  }
 ],
 "metadata": {
  "kernelspec": {
   "display_name": "Python 3",
   "language": "python",
   "name": "python3"
  },
  "language_info": {
   "codemirror_mode": {
    "name": "ipython",
    "version": 2
   },
   "file_extension": ".py",
   "mimetype": "text/x-python",
   "name": "python",
   "nbconvert_exporter": "python",
   "pygments_lexer": "ipython2",
   "version": "2.7.6"
  }
 },
 "nbformat": 4,
 "nbformat_minor": 0
}
