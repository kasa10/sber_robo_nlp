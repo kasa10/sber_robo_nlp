{
 "cells": [
  {
   "cell_type": "code",
   "execution_count": 1,
   "id": "initial_id",
   "metadata": {
    "collapsed": true,
    "ExecuteTime": {
     "end_time": "2024-04-04T11:15:28.493799Z",
     "start_time": "2024-04-04T11:15:06.442196Z"
    }
   },
   "outputs": [
    {
     "name": "stdout",
     "output_type": "stream",
     "text": [
      "Accuracy of SVM on validation set: 0.672082717872969\n",
      "[1 0 1 1 1]\n"
     ]
    }
   ],
   "source": [
    "import pandas as pd\n",
    "from sklearn.svm import SVC\n",
    "from sklearn.pipeline import Pipeline\n",
    "from sklearn.feature_extraction.text import TfidfVectorizer\n",
    "from sklearn.metrics import accuracy_score\n",
    "from sklearn.model_selection import train_test_split\n",
    "\n",
    "train_data_path = 'train_data_en.csv'\n",
    "test_data_path = 'test_data_en.csv'\n",
    "train_data = pd.read_csv(train_data_path)\n",
    "test_data = pd.read_csv(test_data_path)\n",
    "\n",
    "train_data['combined_text'] = train_data['Задача en'] + ' ' + train_data['Обстановка en'] + ' ' + train_data['Оптимальный план en']\n",
    "test_data['combined_text'] = test_data['Задача en'] + ' ' + test_data['Обстановка en'] + ' ' + test_data['Оптимальный план en']\n",
    "\n",
    "tfidf_vectorizer = TfidfVectorizer(max_features=5000)\n",
    "svm_classifier = SVC(probability=True)\n",
    "\n",
    "pipeline = Pipeline([\n",
    "    ('tfidf', tfidf_vectorizer),\n",
    "    ('svm', svm_classifier)\n",
    "])\n",
    "\n",
    "X = train_data['combined_text']\n",
    "y = train_data['Успех предсказанного плана']\n",
    "X_train, X_val, y_train, y_val = train_test_split(X, y, test_size=0.2, random_state=42)\n",
    "\n",
    "pipeline.fit(X_train, y_train)\n",
    "\n",
    "y_val_pred = pipeline.predict(X_val)\n",
    "accuracy_val = accuracy_score(y_val, y_val_pred)\n",
    "print(f'Accuracy of SVM on validation set: {accuracy_val}')\n",
    "\n",
    "y_test_pred = pipeline.predict(test_data['combined_text'])\n",
    "\n",
    "print(y_test_pred[:5])"
   ]
  },
  {
   "cell_type": "code",
   "outputs": [],
   "source": [],
   "metadata": {
    "collapsed": false
   },
   "id": "95fc636eb886bf7b"
  }
 ],
 "metadata": {
  "kernelspec": {
   "display_name": "Python 3",
   "language": "python",
   "name": "python3"
  },
  "language_info": {
   "codemirror_mode": {
    "name": "ipython",
    "version": 2
   },
   "file_extension": ".py",
   "mimetype": "text/x-python",
   "name": "python",
   "nbconvert_exporter": "python",
   "pygments_lexer": "ipython2",
   "version": "2.7.6"
  }
 },
 "nbformat": 4,
 "nbformat_minor": 5
}
